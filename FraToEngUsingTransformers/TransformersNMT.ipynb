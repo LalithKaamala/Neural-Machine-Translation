{
 "cells": [
  {
   "cell_type": "code",
   "execution_count": 1,
   "id": "b8ce9f32-8fc6-4b42-a968-08299892f240",
   "metadata": {
    "id": "b8ce9f32-8fc6-4b42-a968-08299892f240"
   },
   "outputs": [],
   "source": [
    "import torch\n",
    "import torch.nn as nn\n",
    "from torch.utils.data import Dataset, DataLoader, random_split\n",
    "from torch.utils.tensorboard import SummaryWriter"
   ]
  },
  {
   "cell_type": "code",
   "execution_count": 2,
   "id": "0fef8e52-6b47-4707-b4e6-a3397436f301",
   "metadata": {
    "id": "0fef8e52-6b47-4707-b4e6-a3397436f301"
   },
   "outputs": [],
   "source": [
    "import math\n",
    "# from datasets import load_dataset\n",
    "# from tokenizers import Tokenizer\n",
    "# from tokenizers.models import WordLevel\n",
    "# from tokenizers.trainers import WordLevelTrainer\n",
    "# from tokenizers.pre_tokenizers import Whitespace"
   ]
  },
  {
   "cell_type": "code",
   "execution_count": 3,
   "id": "88143628-8512-4dfa-a020-86e87d0c936e",
   "metadata": {
    "id": "88143628-8512-4dfa-a020-86e87d0c936e"
   },
   "outputs": [],
   "source": [
    "from pathlib import Path"
   ]
  },
  {
   "cell_type": "code",
   "execution_count": 4,
   "id": "09e25afe-4b44-4ec5-bac1-a1a350df1d03",
   "metadata": {
    "id": "09e25afe-4b44-4ec5-bac1-a1a350df1d03"
   },
   "outputs": [],
   "source": [
    "from typing import Any"
   ]
  },
  {
   "cell_type": "code",
   "execution_count": 5,
   "id": "8ae882e4-ffa3-452f-b442-49976d23b74f",
   "metadata": {
    "id": "8ae882e4-ffa3-452f-b442-49976d23b74f"
   },
   "outputs": [],
   "source": [
    "from tqdm import tqdm"
   ]
  },
  {
   "cell_type": "code",
   "execution_count": 6,
   "id": "9fd563b6-0780-486a-9dbc-230ce2c5f95e",
   "metadata": {
    "id": "9fd563b6-0780-486a-9dbc-230ce2c5f95e"
   },
   "outputs": [],
   "source": [
    "import warnings"
   ]
  },
  {
   "cell_type": "code",
   "execution_count": 7,
   "id": "9222b5f9-6a3d-41cb-91af-fe760a155bae",
   "metadata": {
    "id": "9222b5f9-6a3d-41cb-91af-fe760a155bae"
   },
   "outputs": [],
   "source": [
    "from __future__ import unicode_literals, print_function, division\n",
    "from io import open\n",
    "import unicodedata\n",
    "import re\n",
    "import random\n",
    "\n",
    "import torch\n",
    "import torch.nn as nn\n",
    "from torch import optim\n",
    "import torch.nn.functional as F\n",
    "\n",
    "import numpy as np\n",
    "from torch.utils.data import TensorDataset, DataLoader, RandomSampler\n",
    "\n",
    "device = torch.device(\"cuda\" if torch.cuda.is_available() else \"cpu\")"
   ]
  },
  {
   "cell_type": "code",
   "execution_count": 8,
   "id": "c7d8ab98-0dbf-43fc-9fd7-e0c25478bf48",
   "metadata": {
    "id": "c7d8ab98-0dbf-43fc-9fd7-e0c25478bf48"
   },
   "outputs": [],
   "source": [
    "class InputEmbeddings(nn.Module):\n",
    "\n",
    "    def __init__(self, d_model: int, vocab_size: int) -> None:\n",
    "        super().__init__()\n",
    "        self.d_model = d_model\n",
    "        self.vocab_size = vocab_size\n",
    "        self.embedding = nn.Embedding(vocab_size, d_model)\n",
    "\n",
    "    def forward(self, x):\n",
    "        # (batch, seq_len) --> (batch, seq_len, d_model)\n",
    "        # Multiply by sqrt(d_model) to scale the embeddings according to the paper\n",
    "        return self.embedding(x) * math.sqrt(self.d_model)"
   ]
  },
  {
   "cell_type": "code",
   "execution_count": 9,
   "id": "745460dc-be39-419f-8d2a-be95b5b5544f",
   "metadata": {
    "id": "745460dc-be39-419f-8d2a-be95b5b5544f"
   },
   "outputs": [],
   "source": [
    "class PositionalEncoding(nn.Module):\n",
    "\n",
    "    def __init__(self, d_model: int, seq_len: int, dropout: float) -> None:\n",
    "        super().__init__()\n",
    "        self.d_model = d_model\n",
    "        self.seq_len = seq_len\n",
    "        self.dropout = nn.Dropout(dropout)\n",
    "        # Create a matrix of shape (seq_len, d_model)\n",
    "        pe = torch.zeros(seq_len, d_model)\n",
    "        # Create a vector of shape (seq_len)\n",
    "        position = torch.arange(0, seq_len, dtype=torch.float).unsqueeze(1) # (seq_len, 1)\n",
    "        # Create a vector of shape (d_model)\n",
    "        div_term = torch.exp(torch.arange(0, d_model, 2).float() * (-math.log(10000.0) / d_model)) # (d_model / 2)\n",
    "        # Apply sine to even indices\n",
    "        pe[:, 0::2] = torch.sin(position * div_term) # sin(position * (10000 ** (2i / d_model))\n",
    "        # Apply cosine to odd indices\n",
    "        pe[:, 1::2] = torch.cos(position * div_term) # cos(position * (10000 ** (2i / d_model))\n",
    "        # Add a batch dimension to the positional encoding\n",
    "        pe = pe.unsqueeze(0) # (1, seq_len, d_model)\n",
    "        # Register the positional encoding as a buffer\n",
    "        self.register_buffer('pe', pe)\n",
    "\n",
    "    def forward(self, x):\n",
    "        x = x + (self.pe[:, :x.shape[1], :]).requires_grad_(False) # (batch, seq_len, d_model)\n",
    "        return self.dropout(x)"
   ]
  },
  {
   "cell_type": "code",
   "execution_count": 10,
   "id": "77567130-3a76-45fa-8954-4201fc336c51",
   "metadata": {
    "id": "77567130-3a76-45fa-8954-4201fc336c51"
   },
   "outputs": [],
   "source": [
    "class LayerNormalization(nn.Module):\n",
    "    def __init__(self, features: int, eps:float=10**-6) -> None:\n",
    "        super().__init__()\n",
    "        self.eps = eps\n",
    "        self.alpha = nn.Parameter(torch.ones(features)) # alpha is a learnable parameter\n",
    "        self.bias = nn.Parameter(torch.zeros(features)) # bias is a learnable parameter\n",
    "\n",
    "    def forward(self, x):\n",
    "        # x: (batch, seq_len, hidden_size)\n",
    "         # Keep the dimension for broadcasting\n",
    "        mean = x.mean(dim = -1, keepdim = True) # (batch, seq_len, 1)\n",
    "        # Keep the dimension for broadcasting\n",
    "        std = x.std(dim = -1, keepdim = True) # (batch, seq_len, 1)\n",
    "        # eps is to prevent dividing by zero or when std is very small\n",
    "        return self.alpha * (x - mean) / (std + self.eps) + self.bias"
   ]
  },
  {
   "cell_type": "code",
   "execution_count": 11,
   "id": "fe2594fe-cc7e-439d-a649-1919e69110ca",
   "metadata": {
    "id": "fe2594fe-cc7e-439d-a649-1919e69110ca"
   },
   "outputs": [],
   "source": [
    "class FeedForwardBlock(nn.Module):\n",
    "\n",
    "    def __init__(self, d_model: int, d_ff: int, dropout: float) -> None:\n",
    "        super().__init__()\n",
    "        self.linear_1 = nn.Linear(d_model, d_ff) # w1 and b1\n",
    "        self.dropout = nn.Dropout(dropout)\n",
    "        self.linear_2 = nn.Linear(d_ff, d_model) # w2 and b2\n",
    "\n",
    "    def forward(self, x):\n",
    "        # (batch, seq_len, d_model) --> (batch, seq_len, d_ff) --> (batch, seq_len, d_model)\n",
    "        return self.linear_2(self.dropout(torch.relu(self.linear_1(x))))"
   ]
  },
  {
   "cell_type": "code",
   "execution_count": 12,
   "id": "274c592e-0f37-49d8-bb0b-2b954963bf3b",
   "metadata": {
    "id": "274c592e-0f37-49d8-bb0b-2b954963bf3b"
   },
   "outputs": [],
   "source": [
    "class MultiHeadAttentionBlock(nn.Module):\n",
    "\n",
    "    def __init__(self, d_model: int, h: int, dropout: float) -> None:\n",
    "        super().__init__()\n",
    "        self.d_model = d_model # Embedding vector size\n",
    "        self.h = h # Number of heads\n",
    "        # Make sure d_model is divisible by h\n",
    "        assert d_model % h == 0, \"d_model is not divisible by h\"\n",
    "\n",
    "        self.d_k = d_model // h # Dimension of vector seen by each head\n",
    "        self.w_q = nn.Linear(d_model, d_model, bias=False) # Wq\n",
    "        self.w_k = nn.Linear(d_model, d_model, bias=False) # Wk\n",
    "        self.w_v = nn.Linear(d_model, d_model, bias=False) # Wv\n",
    "        self.w_o = nn.Linear(d_model, d_model, bias=False) # Wo\n",
    "        self.dropout = nn.Dropout(dropout)\n",
    "\n",
    "    @staticmethod\n",
    "    def attention(query, key, value, mask, dropout: nn.Dropout):\n",
    "        d_k = query.shape[-1]\n",
    "        # Just apply the formula from the paper\n",
    "        # (batch, h, seq_len, d_k) --> (batch, h, seq_len, seq_len)\n",
    "        attention_scores = (query @ key.transpose(-2, -1)) / math.sqrt(d_k)\n",
    "        if mask is not None:\n",
    "            # Write a very low value (indicating -inf) to the positions where mask == 0\n",
    "            attention_scores.masked_fill_(mask == 0, -1e9)\n",
    "        attention_scores = attention_scores.softmax(dim=-1) # (batch, h, seq_len, seq_len) # Apply softmax\n",
    "        if dropout is not None:\n",
    "            attention_scores = dropout(attention_scores)\n",
    "        # (batch, h, seq_len, seq_len) --> (batch, h, seq_len, d_k)\n",
    "        # return attention scores which can be used for visualization\n",
    "        return (attention_scores @ value), attention_scores\n",
    "\n",
    "    def forward(self, q, k, v, mask):\n",
    "        query = self.w_q(q) # (batch, seq_len, d_model) --> (batch, seq_len, d_model)\n",
    "        key = self.w_k(k) # (batch, seq_len, d_model) --> (batch, seq_len, d_model)\n",
    "        value = self.w_v(v) # (batch, seq_len, d_model) --> (batch, seq_len, d_model)\n",
    "\n",
    "        # (batch, seq_len, d_model) --> (batch, seq_len, h, d_k) --> (batch, h, seq_len, d_k)\n",
    "        query = query.view(query.shape[0], query.shape[1], self.h, self.d_k).transpose(1, 2)\n",
    "        key = key.view(key.shape[0], key.shape[1], self.h, self.d_k).transpose(1, 2)\n",
    "        value = value.view(value.shape[0], value.shape[1], self.h, self.d_k).transpose(1, 2)\n",
    "\n",
    "        # Calculate attention\n",
    "        x, self.attention_scores = MultiHeadAttentionBlock.attention(query, key, value, mask, self.dropout)\n",
    "\n",
    "        # Combine all the heads together\n",
    "        # (batch, h, seq_len, d_k) --> (batch, seq_len, h, d_k) --> (batch, seq_len, d_model)\n",
    "        x = x.transpose(1, 2).contiguous().view(x.shape[0], -1, self.h * self.d_k)\n",
    "\n",
    "        # Multiply by Wo\n",
    "        # (batch, seq_len, d_model) --> (batch, seq_len, d_model)\n",
    "        return self.w_o(x)"
   ]
  },
  {
   "cell_type": "code",
   "execution_count": 13,
   "id": "8e448a67-a8f9-4fee-a035-1a0b5ebfe76e",
   "metadata": {
    "id": "8e448a67-a8f9-4fee-a035-1a0b5ebfe76e"
   },
   "outputs": [],
   "source": [
    "class ResidualConnection(nn.Module):\n",
    "\n",
    "        def __init__(self, features: int, dropout: float) -> None:\n",
    "            super().__init__()\n",
    "            self.dropout = nn.Dropout(dropout)\n",
    "            self.norm = LayerNormalization(features)\n",
    "\n",
    "        def forward(self, x, sublayer):\n",
    "            return x + self.dropout(sublayer(self.norm(x)))"
   ]
  },
  {
   "cell_type": "code",
   "execution_count": 14,
   "id": "ee39b49a-abb2-4605-b60d-883a2e772dbf",
   "metadata": {
    "id": "ee39b49a-abb2-4605-b60d-883a2e772dbf"
   },
   "outputs": [],
   "source": [
    "class EncoderBlock(nn.Module):\n",
    "\n",
    "    def __init__(self, features: int, self_attention_block: MultiHeadAttentionBlock, feed_forward_block: FeedForwardBlock, dropout: float) -> None:\n",
    "        super().__init__()\n",
    "        self.self_attention_block = self_attention_block\n",
    "        self.feed_forward_block = feed_forward_block\n",
    "        self.residual_connections = nn.ModuleList([ResidualConnection(features, dropout) for _ in range(2)])\n",
    "\n",
    "    def forward(self, x, src_mask):\n",
    "        x = self.residual_connections[0](x, lambda x: self.self_attention_block(x, x, x, src_mask))\n",
    "        x = self.residual_connections[1](x, self.feed_forward_block)\n",
    "        return x\n",
    "\n",
    "class Encoder(nn.Module):\n",
    "\n",
    "    def __init__(self, features: int, layers: nn.ModuleList) -> None:\n",
    "        super().__init__()\n",
    "        self.layers = layers\n",
    "        self.norm = LayerNormalization(features)\n",
    "\n",
    "    def forward(self, x, mask):\n",
    "        for layer in self.layers:\n",
    "            x = layer(x, mask)\n",
    "        return self.norm(x)"
   ]
  },
  {
   "cell_type": "code",
   "execution_count": 15,
   "id": "41e24a81-edda-4188-aae8-788624ccd0dc",
   "metadata": {
    "id": "41e24a81-edda-4188-aae8-788624ccd0dc"
   },
   "outputs": [],
   "source": [
    "class DecoderBlock(nn.Module):\n",
    "\n",
    "    def __init__(self, features: int, self_attention_block: MultiHeadAttentionBlock, cross_attention_block: MultiHeadAttentionBlock, feed_forward_block: FeedForwardBlock, dropout: float) -> None:\n",
    "        super().__init__()\n",
    "        self.self_attention_block = self_attention_block\n",
    "        self.cross_attention_block = cross_attention_block\n",
    "        self.feed_forward_block = feed_forward_block\n",
    "        self.residual_connections = nn.ModuleList([ResidualConnection(features, dropout) for _ in range(3)])\n",
    "\n",
    "    def forward(self, x, encoder_output, src_mask, tgt_mask):\n",
    "        x = self.residual_connections[0](x, lambda x: self.self_attention_block(x, x, x, tgt_mask))\n",
    "        x = self.residual_connections[1](x, lambda x: self.cross_attention_block(x, encoder_output, encoder_output, src_mask))\n",
    "        x = self.residual_connections[2](x, self.feed_forward_block)\n",
    "        return x\n",
    "\n",
    "class Decoder(nn.Module):\n",
    "\n",
    "    def __init__(self, features: int, layers: nn.ModuleList) -> None:\n",
    "        super().__init__()\n",
    "        self.layers = layers\n",
    "        self.norm = LayerNormalization(features)\n",
    "\n",
    "    def forward(self, x, encoder_output, src_mask, tgt_mask):\n",
    "        for layer in self.layers:\n",
    "            x = layer(x, encoder_output, src_mask, tgt_mask)\n",
    "        return self.norm(x)"
   ]
  },
  {
   "cell_type": "code",
   "execution_count": 16,
   "id": "13b79306-5e54-41f8-b856-f6c164d1c399",
   "metadata": {
    "id": "13b79306-5e54-41f8-b856-f6c164d1c399"
   },
   "outputs": [],
   "source": [
    "class ProjectionLayer(nn.Module):\n",
    "\n",
    "    def __init__(self, d_model, vocab_size) -> None:\n",
    "        super().__init__()\n",
    "        self.proj = nn.Linear(d_model, vocab_size)\n",
    "\n",
    "    def forward(self, x) -> None:\n",
    "        # (batch, seq_len, d_model) --> (batch, seq_len, vocab_size)\n",
    "        return self.proj(x)"
   ]
  },
  {
   "cell_type": "code",
   "execution_count": 17,
   "id": "3db6ed40-a9d8-46a3-8863-d50b3f314bec",
   "metadata": {
    "id": "3db6ed40-a9d8-46a3-8863-d50b3f314bec"
   },
   "outputs": [],
   "source": [
    "class Transformer(nn.Module):\n",
    "\n",
    "    def __init__(self, encoder: Encoder, decoder: Decoder, src_embed: InputEmbeddings, tgt_embed: InputEmbeddings, src_pos: PositionalEncoding, tgt_pos: PositionalEncoding, projection_layer: ProjectionLayer) -> None:\n",
    "        super().__init__()\n",
    "        self.encoder = encoder\n",
    "        self.decoder = decoder\n",
    "        self.src_embed = src_embed\n",
    "        self.tgt_embed = tgt_embed\n",
    "        self.src_pos = src_pos\n",
    "        self.tgt_pos = tgt_pos\n",
    "        self.projection_layer = projection_layer\n",
    "\n",
    "    def encode(self, src, src_mask):\n",
    "        # (batch, seq_len, d_model)\n",
    "        src = self.src_embed(src)\n",
    "        src = self.src_pos(src)\n",
    "        return self.encoder(src, src_mask)\n",
    "\n",
    "    def decode(self, encoder_output: torch.Tensor, src_mask: torch.Tensor, tgt: torch.Tensor, tgt_mask: torch.Tensor):\n",
    "        # (batch, seq_len, d_model)\n",
    "        tgt = self.tgt_embed(tgt)\n",
    "        tgt = self.tgt_pos(tgt)\n",
    "        return self.decoder(tgt, encoder_output, src_mask, tgt_mask)\n",
    "\n",
    "    def project(self, x):\n",
    "        # (batch, seq_len, vocab_size)\n",
    "        return self.projection_layer(x)"
   ]
  },
  {
   "cell_type": "code",
   "execution_count": 18,
   "id": "fed8f589-b2f5-47ed-bf5c-b55f643e04eb",
   "metadata": {
    "id": "fed8f589-b2f5-47ed-bf5c-b55f643e04eb"
   },
   "outputs": [],
   "source": [
    "def build_transformer(src_vocab_size: int, tgt_vocab_size: int, src_seq_len: int, tgt_seq_len: int, d_model: int=512, N: int=6, h: int=8, dropout: float=0.1, d_ff: int=2048) -> Transformer:\n",
    "    # Create the embedding layers\n",
    "    src_embed = InputEmbeddings(d_model, src_vocab_size)\n",
    "    tgt_embed = InputEmbeddings(d_model, tgt_vocab_size)\n",
    "\n",
    "    # Create the positional encoding layers\n",
    "    src_pos = PositionalEncoding(d_model, src_seq_len, dropout)\n",
    "    tgt_pos = PositionalEncoding(d_model, tgt_seq_len, dropout)\n",
    "\n",
    "    # Create the encoder blocks\n",
    "    encoder_blocks = []\n",
    "    for _ in range(N):\n",
    "        encoder_self_attention_block = MultiHeadAttentionBlock(d_model, h, dropout)\n",
    "        feed_forward_block = FeedForwardBlock(d_model, d_ff, dropout)\n",
    "        encoder_block = EncoderBlock(d_model, encoder_self_attention_block, feed_forward_block, dropout)\n",
    "        encoder_blocks.append(encoder_block)\n",
    "\n",
    "    # Create the decoder blocks\n",
    "    decoder_blocks = []\n",
    "    for _ in range(N):\n",
    "        decoder_self_attention_block = MultiHeadAttentionBlock(d_model, h, dropout)\n",
    "        decoder_cross_attention_block = MultiHeadAttentionBlock(d_model, h, dropout)\n",
    "        feed_forward_block = FeedForwardBlock(d_model, d_ff, dropout)\n",
    "        decoder_block = DecoderBlock(d_model, decoder_self_attention_block, decoder_cross_attention_block, feed_forward_block, dropout)\n",
    "        decoder_blocks.append(decoder_block)\n",
    "\n",
    "    # Create the encoder and decoder\n",
    "    encoder = Encoder(d_model, nn.ModuleList(encoder_blocks))\n",
    "    decoder = Decoder(d_model, nn.ModuleList(decoder_blocks))\n",
    "\n",
    "    # Create the projection layer\n",
    "    projection_layer = ProjectionLayer(d_model, tgt_vocab_size)\n",
    "\n",
    "    # Create the transformer\n",
    "    transformer = Transformer(encoder, decoder, src_embed, tgt_embed, src_pos, tgt_pos, projection_layer)\n",
    "\n",
    "    # Initialize the parameters\n",
    "    for p in transformer.parameters():\n",
    "        if p.dim() > 1:\n",
    "            nn.init.xavier_uniform_(p)\n",
    "\n",
    "    return transformer"
   ]
  },
  {
   "cell_type": "code",
   "execution_count": 19,
   "id": "bfd5ee21-02f5-4c99-bb63-a47f76260f09",
   "metadata": {
    "id": "bfd5ee21-02f5-4c99-bb63-a47f76260f09"
   },
   "outputs": [],
   "source": [
    "transformer = build_transformer(100, 100, 10, 10)"
   ]
  },
  {
   "cell_type": "code",
   "execution_count": 20,
   "id": "139e5fb7-fa29-4da7-979e-9d9c15183d32",
   "metadata": {
    "id": "139e5fb7-fa29-4da7-979e-9d9c15183d32"
   },
   "outputs": [],
   "source": [
    "src = torch.randint(0,100, (32,10))"
   ]
  },
  {
   "cell_type": "code",
   "execution_count": 21,
   "id": "086d77fa-4857-425e-9291-1436b193a8ad",
   "metadata": {
    "colab": {
     "base_uri": "https://localhost:8080/"
    },
    "id": "086d77fa-4857-425e-9291-1436b193a8ad",
    "outputId": "dbb484cb-179e-4dcc-fc4e-54b6a6af8e74"
   },
   "outputs": [
    {
     "data": {
      "text/plain": [
       "torch.Size([32, 10])"
      ]
     },
     "execution_count": 21,
     "metadata": {},
     "output_type": "execute_result"
    }
   ],
   "source": [
    "src.shape"
   ]
  },
  {
   "cell_type": "code",
   "execution_count": 22,
   "id": "d5659cdc-65ad-42dd-9530-5f003c237883",
   "metadata": {
    "id": "d5659cdc-65ad-42dd-9530-5f003c237883"
   },
   "outputs": [],
   "source": [
    "src_mask = torch.randint(0,2, (10,10))"
   ]
  },
  {
   "cell_type": "code",
   "execution_count": 23,
   "id": "15e562cc-aabb-4c20-afd7-982a45a06efe",
   "metadata": {
    "colab": {
     "base_uri": "https://localhost:8080/"
    },
    "id": "15e562cc-aabb-4c20-afd7-982a45a06efe",
    "outputId": "eaf1b2fe-a8f3-4cec-c8e2-d1555c480390"
   },
   "outputs": [
    {
     "data": {
      "text/plain": [
       "torch.Size([10, 10])"
      ]
     },
     "execution_count": 23,
     "metadata": {},
     "output_type": "execute_result"
    }
   ],
   "source": [
    "src_mask.shape"
   ]
  },
  {
   "cell_type": "code",
   "execution_count": 24,
   "id": "4a99c0fa-689b-4451-a48d-8aa1f8723a7f",
   "metadata": {
    "id": "4a99c0fa-689b-4451-a48d-8aa1f8723a7f"
   },
   "outputs": [],
   "source": [
    "encoder_output = transformer.encode(src, src_mask)"
   ]
  },
  {
   "cell_type": "code",
   "execution_count": 25,
   "id": "95bd73aa-f4fc-448c-9460-f280f96c2383",
   "metadata": {
    "id": "95bd73aa-f4fc-448c-9460-f280f96c2383"
   },
   "outputs": [],
   "source": [
    "tgt_mask = torch.randint(0,2, (10, 10))"
   ]
  },
  {
   "cell_type": "code",
   "execution_count": 26,
   "id": "1a267bc9-d916-4e56-97b2-6d008ce5b441",
   "metadata": {
    "id": "1a267bc9-d916-4e56-97b2-6d008ce5b441"
   },
   "outputs": [],
   "source": [
    "tgt = torch.randint(0,100, (32, 10))"
   ]
  },
  {
   "cell_type": "code",
   "execution_count": 27,
   "id": "5f5d111a-586a-40ee-8971-acb8604fd260",
   "metadata": {
    "colab": {
     "base_uri": "https://localhost:8080/"
    },
    "id": "5f5d111a-586a-40ee-8971-acb8604fd260",
    "outputId": "b352f2a8-7ca6-41fe-f5e5-09e25b426a99"
   },
   "outputs": [
    {
     "data": {
      "text/plain": [
       "torch.Size([32, 10, 512])"
      ]
     },
     "execution_count": 27,
     "metadata": {},
     "output_type": "execute_result"
    }
   ],
   "source": [
    "transformer.decode(encoder_output, src_mask, tgt, tgt_mask).shape"
   ]
  },
  {
   "cell_type": "code",
   "execution_count": 28,
   "id": "9f564956-3d57-49bd-88fd-6b4e1325acf2",
   "metadata": {
    "id": "9f564956-3d57-49bd-88fd-6b4e1325acf2"
   },
   "outputs": [],
   "source": [
    "MAX_LEN = 10\n",
    "def get_config():\n",
    "    return {\n",
    "        \"batch_size\": 64,\n",
    "        \"num_epochs\": 100,\n",
    "        \"lr\": 10**-4,\n",
    "        \"seq_len\": MAX_LEN,\n",
    "        \"d_model\": 128,\n",
    "        \"datasource\": 'opus_books',\n",
    "        \"lang_src\": \"en\",\n",
    "        \"lang_tgt\": \"it\",\n",
    "        \"model_folder\": \"weights\",\n",
    "        \"model_basename\": \"tmodel_\",\n",
    "        \"preload\": \"latest\",\n",
    "        \"tokenizer_file\": \"tokenizer_{0}.json\",\n",
    "        \"experiment_name\": \"runs/tmodel\"\n",
    "    }"
   ]
  },
  {
   "cell_type": "code",
   "execution_count": 29,
   "id": "200ed6ab-508d-4c9d-863d-c167383670fb",
   "metadata": {
    "id": "200ed6ab-508d-4c9d-863d-c167383670fb"
   },
   "outputs": [],
   "source": [
    "config = get_config()"
   ]
  },
  {
   "cell_type": "code",
   "execution_count": 30,
   "id": "376b9f2e-1a7f-4fe2-9027-82ad099ce866",
   "metadata": {
    "id": "376b9f2e-1a7f-4fe2-9027-82ad099ce866"
   },
   "outputs": [],
   "source": [
    "def causal_mask(size):\n",
    "    mask = torch.triu(torch.ones((1, size, size)), diagonal=1).type(torch.int)\n",
    "    return mask == 0"
   ]
  },
  {
   "cell_type": "code",
   "execution_count": 31,
   "id": "274e452b-4eda-43ad-a6fd-f64b0925ed72",
   "metadata": {
    "id": "274e452b-4eda-43ad-a6fd-f64b0925ed72"
   },
   "outputs": [],
   "source": [
    "def get_model(config, vocab_src_len, vocab_tgt_len):\n",
    "    model = build_transformer(vocab_src_len, vocab_tgt_len, config[\"seq_len\"], config['seq_len'], d_model=config['d_model'], N=3, h = 4, d_ff=256)\n",
    "    return model"
   ]
  },
  {
   "cell_type": "code",
   "execution_count": 32,
   "id": "7949ad99-85a4-4620-89c3-b86a397f1442",
   "metadata": {
    "id": "7949ad99-85a4-4620-89c3-b86a397f1442"
   },
   "outputs": [],
   "source": [
    "from zipfile import ZipFile\n",
    "\n",
    "with ZipFile(\"data (1).zip\", 'r') as zObject:\n",
    "    zObject.extractall(path=\"\")"
   ]
  },
  {
   "cell_type": "code",
   "execution_count": 33,
   "id": "a95820aa-b61a-48cc-8edd-6ed565f7c47a",
   "metadata": {
    "id": "a95820aa-b61a-48cc-8edd-6ed565f7c47a"
   },
   "outputs": [],
   "source": [
    "SOS_token = 0\n",
    "EOS_token = 1\n",
    "PAD_token = 2\n",
    "class Lang:\n",
    "  def __init__(self, name):\n",
    "    self.name = name\n",
    "    self.word2index = {}\n",
    "    self.word2count = {}\n",
    "    self.index2word = {0:\"[SOS]\", 1:\"[EOS]\",2:\"[PAD]\"}\n",
    "    self.n_words = 3\n",
    "  def addSentence(self, sentence):\n",
    "    for word in sentence.split(' '):\n",
    "      self.addWord(word)\n",
    "  def addWord(self, word):\n",
    "    if word not in self.word2index:\n",
    "      self.word2index[word] = self.n_words\n",
    "      self.word2count[word] = 1\n",
    "      self.index2word[self.n_words] = word\n",
    "      self.n_words += 1\n",
    "    else:\n",
    "      self.word2count[word] += 1"
   ]
  },
  {
   "cell_type": "code",
   "execution_count": 34,
   "id": "a1b588c7-1bb2-415e-80c7-6df2d9f6a2c4",
   "metadata": {
    "id": "a1b588c7-1bb2-415e-80c7-6df2d9f6a2c4"
   },
   "outputs": [],
   "source": [
    "def unicodeToAscii(s):\n",
    "  return ''.join(\n",
    "      c for c in unicodedata.normalize('NFD', s)\n",
    "      if unicodedata.category(c) != 'Mn'\n",
    "  )\n",
    "\n",
    "def normalizeString(s):\n",
    "  s = unicodeToAscii(s.lower().strip())\n",
    "  s = re.sub(r\"([.!?])\", r\" \\1\", s)\n",
    "  s = re.sub(r\"[^a-zA-Z!?]+\", r\" \", s)\n",
    "  return s.strip()"
   ]
  },
  {
   "cell_type": "code",
   "execution_count": 35,
   "id": "c49375c4-bfb6-4698-9cc7-f76831974df6",
   "metadata": {
    "id": "c49375c4-bfb6-4698-9cc7-f76831974df6"
   },
   "outputs": [],
   "source": [
    "def readLangs(lang1, lang2, reverse=False):\n",
    "  print(\"Reading Lines......\")\n",
    "\n",
    "  lines = open('data/%s-%s.txt' % (lang1, lang2), encoding='utf-8').read().strip().split('\\n')\n",
    "\n",
    "  pairs = [[normalizeString(s) for s in l.split('\\t')] for l in lines]\n",
    "\n",
    "  if reverse:\n",
    "    pairs = [list(reversed(p)) for p in pairs]\n",
    "    input_lang = Lang(lang2)\n",
    "    output_lang = Lang(lang1)\n",
    "  else:\n",
    "    input_lang = Lang(lang1)\n",
    "    output_lang = Lang(lang2)\n",
    "\n",
    "  return input_lang, output_lang, pairs"
   ]
  },
  {
   "cell_type": "code",
   "execution_count": 36,
   "id": "015b5adf-9c68-478a-91da-bead34d51c2f",
   "metadata": {
    "id": "015b5adf-9c68-478a-91da-bead34d51c2f"
   },
   "outputs": [],
   "source": [
    "eng_prefixes = (\n",
    "    \"i am \", \"i m \",\n",
    "    \"he is\", \"he s \",\n",
    "    \"she is\", \"she s \",\n",
    "    \"you are\", \"you re \",\n",
    "    \"we are\", \"we re \",\n",
    "    \"they are\", \"they re \"\n",
    ")\n",
    "\n",
    "def filterPair(p):\n",
    "  return len(p[0].split(' ')) < MAX_LEN-1 and len(p[1].split(' ')) < MAX_LEN-1 and p[1].startswith(eng_prefixes)\n",
    "\n",
    "def filterPairs(pairs):\n",
    "  return [p for p in pairs if filterPair(p)]"
   ]
  },
  {
   "cell_type": "code",
   "execution_count": 37,
   "id": "517bcd7c-ff8d-4202-bc42-2a9456cac4e9",
   "metadata": {
    "colab": {
     "base_uri": "https://localhost:8080/"
    },
    "id": "517bcd7c-ff8d-4202-bc42-2a9456cac4e9",
    "outputId": "0a839567-5b6c-4ee8-cc2e-514f2c2d5412"
   },
   "outputs": [
    {
     "name": "stdout",
     "output_type": "stream",
     "text": [
      "Reading Lines......\n",
      "Read 135842 sentence pairs\n",
      "Trimmed to 10551 sentence pairs\n",
      "Counting words....\n",
      "Counted Words\n",
      "fra 4343\n",
      "eng 2802\n"
     ]
    }
   ],
   "source": [
    "def prepareData(lang1, lang2, reverse = False):\n",
    "  input_lang, output_lang, pairs = readLangs(lang1, lang2, reverse)\n",
    "  print(\"Read %s sentence pairs\" %len(pairs))\n",
    "  pairs = filterPairs(pairs)\n",
    "  print(\"Trimmed to %s sentence pairs\" % len(pairs))\n",
    "  print(\"Counting words....\")\n",
    "  for pair in pairs:\n",
    "    input_lang.addSentence(pair[0])\n",
    "    output_lang.addSentence(pair[1])\n",
    "  print(\"Counted Words\")\n",
    "  print(input_lang.name, input_lang.n_words)\n",
    "  print(output_lang.name, output_lang.n_words)\n",
    "  return input_lang, output_lang, pairs\n",
    "\n",
    "input_lang, output_lang, pairs = prepareData('eng','fra',True)"
   ]
  },
  {
   "cell_type": "code",
   "execution_count": 38,
   "id": "562f2877-1086-41be-91ac-20a8c83ee6f1",
   "metadata": {
    "colab": {
     "base_uri": "https://localhost:8080/"
    },
    "id": "562f2877-1086-41be-91ac-20a8c83ee6f1",
    "outputId": "d6310aae-cc53-4b57-b1d5-c6f6ce38a7ce"
   },
   "outputs": [
    {
     "name": "stdout",
     "output_type": "stream",
     "text": [
      "['nous sommes reconnaissants', 'we re grateful']\n"
     ]
    }
   ],
   "source": [
    "print(random.choice(pairs))"
   ]
  },
  {
   "cell_type": "code",
   "execution_count": 39,
   "id": "7b6fe3e1-fab4-4a86-a109-27e61c188f8e",
   "metadata": {
    "id": "7b6fe3e1-fab4-4a86-a109-27e61c188f8e"
   },
   "outputs": [],
   "source": [
    "def indexesFromSentence(lang, sentence):\n",
    "  return [lang.word2index[word] for word in sentence.split(' ')]\n",
    "\n",
    "def tensorFromSentence(lang, sentence):\n",
    "  indexes = indexesFromSentence(lang, sentence)\n",
    "  indexes.append(EOS_token)\n",
    "  return torch.tensor(indexes, dtype=torch.long, device=device).view(1,-1)\n",
    "\n",
    "def tensorsFromPair(pair):\n",
    "  input_tensor = tensorFromSentence(input_lang, pair[0])\n",
    "  target_tensor = tensorFromSentence(output_lang, pair[1])\n",
    "  return (input_tensor, target_tensor)"
   ]
  },
  {
   "cell_type": "code",
   "execution_count": 40,
   "id": "ff4750fb-ad59-49c3-a9f9-545575d0a8e8",
   "metadata": {
    "id": "ff4750fb-ad59-49c3-a9f9-545575d0a8e8"
   },
   "outputs": [],
   "source": [
    "def get_dataloader(batch_size):\n",
    "  input_lang, output_lang, pairs = prepareData('eng', 'fra', True)\n",
    "\n",
    "  n = len(pairs)\n",
    "  input_ids = np.zeros((n,MAX_LEN), dtype=np.int32)\n",
    "  target_ids = np.zeros((n,MAX_LEN), dtype=np.int32)\n",
    "\n",
    "  for idx, (inp, tgt) in enumerate(pairs):\n",
    "    inp_ids = indexesFromSentence(input_lang, inp)\n",
    "    tgt_ids = indexesFromSentence(output_lang, tgt)\n",
    "    inp_ids.append(EOS_token)\n",
    "    tgt_ids.append(EOS_token)\n",
    "    input_ids[idx, :len(inp_ids)] = inp_ids\n",
    "    target_ids[idx, :len(tgt_ids)] = tgt_ids\n",
    "\n",
    "  train_data = TensorDataset(torch.LongTensor(input_ids).to(device),\n",
    "                             torch.LongTensor(target_ids).to(device))\n",
    "\n",
    "  train_sampler = RandomSampler(train_data)\n",
    "  train_dataloader = DataLoader(train_data, sampler=train_sampler, batch_size=batch_size)\n",
    "  return input_lang, output_lang, train_dataloader\n"
   ]
  },
  {
   "cell_type": "code",
   "execution_count": 41,
   "id": "a99c6d51-bb2a-4b0c-a3e5-b6aa3f33f667",
   "metadata": {
    "id": "a99c6d51-bb2a-4b0c-a3e5-b6aa3f33f667"
   },
   "outputs": [],
   "source": [
    "class BilingualDatasetNew(Dataset):\n",
    "    def __init__(self, pairs, input_lang, output_lang, seq_len=MAX_LEN):\n",
    "        super().__init__()\n",
    "        self.seq_len = seq_len\n",
    "        self.pairs = pairs\n",
    "        self.input_lang = input_lang\n",
    "        self.output_lang = output_lang\n",
    "        self.src_lang = input_lang.name\n",
    "        self.tgt_lang = output_lang.name\n",
    "        self.sos_token = torch.tensor([SOS_token], dtype=torch.int64)\n",
    "        self.eos_token = torch.tensor([EOS_token], dtype=torch.int64)\n",
    "        self.pad_token = torch.tensor([PAD_token], dtype=torch.int64)\n",
    "    def __len__(self):\n",
    "        return len(self.pairs)\n",
    "\n",
    "    def __getitem__(self, idx):\n",
    "        src_target_pair = self.pairs[idx]\n",
    "        src_text = src_target_pair[0]\n",
    "        tgt_text = src_target_pair[1]\n",
    "\n",
    "        enc_input_tokens = indexesFromSentence(self.input_lang, src_text)\n",
    "        dec_input_tokens = indexesFromSentence(self.output_lang, tgt_text)\n",
    "\n",
    "        enc_num_padding_tokens = self.seq_len - len(enc_input_tokens) - 2\n",
    "        dec_num_padding_tokens = self.seq_len - len(dec_input_tokens) - 1\n",
    "\n",
    "        if enc_num_padding_tokens<0 or dec_num_padding_tokens <0:\n",
    "            raise ValueError(\"Sentence is too long\")\n",
    "\n",
    "        encoder_input = torch.cat(\n",
    "            [\n",
    "                self.sos_token,\n",
    "                torch.tensor(enc_input_tokens, dtype=torch.int64),\n",
    "                self.eos_token,\n",
    "                torch.tensor([self.pad_token]*enc_num_padding_tokens, dtype=torch.int64),\n",
    "            ],\n",
    "            dim=0,\n",
    "        )\n",
    "        decoder_input = torch.cat(\n",
    "            [\n",
    "                self.sos_token,\n",
    "                torch.tensor(dec_input_tokens, dtype=torch.int64),\n",
    "                torch.tensor([self.pad_token]*dec_num_padding_tokens, dtype=torch.int64),\n",
    "            ],\n",
    "            dim=0,\n",
    "        )\n",
    "        label = torch.cat(\n",
    "            [\n",
    "                torch.tensor(dec_input_tokens, dtype=torch.int64),\n",
    "                self.eos_token,\n",
    "                torch.tensor([self.pad_token]*dec_num_padding_tokens, dtype=torch.int64),\n",
    "            ],\n",
    "            dim=0,\n",
    "        )\n",
    "        assert encoder_input.size(0) == self.seq_len\n",
    "        assert decoder_input.size(0) == self.seq_len\n",
    "        assert label.size(0) == self.seq_len\n",
    "\n",
    "        return {\n",
    "            \"encoder_input\": encoder_input,\n",
    "            \"decoder_input\": decoder_input,\n",
    "            \"encoder_mask\": (encoder_input != self.pad_token).unsqueeze(0).unsqueeze(0).int(),\n",
    "            \"decoder_mask\": (decoder_input != self.pad_token).unsqueeze(0).int() & causal_mask(decoder_input.size(0)),\n",
    "            \"label\":label,\n",
    "            \"src_text\":src_text,\n",
    "            \"tgt_text\":tgt_text,\n",
    "        }"
   ]
  },
  {
   "cell_type": "code",
   "execution_count": 42,
   "id": "f7a9f7e3-77cd-4b32-b3c6-b7ce07848035",
   "metadata": {
    "id": "f7a9f7e3-77cd-4b32-b3c6-b7ce07848035"
   },
   "outputs": [],
   "source": [
    "def get_ds(config):\n",
    "    input_lang, output_lang, pairs = prepareData('eng','fra',True)\n",
    "    ds_raw = pairs\n",
    "\n",
    "    train_ds_size = int(0.9*len(ds_raw))\n",
    "    val_ds_size = len(ds_raw) - train_ds_size\n",
    "    train_ds_raw, val_ds_raw = random_split(ds_raw, [train_ds_size, val_ds_size])\n",
    "    train_ds = BilingualDatasetNew(train_ds_raw, input_lang, output_lang)\n",
    "    val_ds = BilingualDatasetNew(val_ds_raw, input_lang, output_lang)\n",
    "    max_len_src = 0\n",
    "    max_len_tgt = 0\n",
    "    for item in ds_raw:\n",
    "        src_ids = indexesFromSentence(input_lang, item[0])\n",
    "        tgt_ids = indexesFromSentence(output_lang, item[1])\n",
    "        max_len_src = max(max_len_src, len(src_ids))\n",
    "        max_len_tgt = max(max_len_tgt, len(tgt_ids))\n",
    "\n",
    "    print(f'Max length of source sentence: {max_len_src}')\n",
    "    print(f'Max length of target sentence: {max_len_tgt}')\n",
    "\n",
    "\n",
    "    train_dataloader = DataLoader(train_ds, batch_size=config['batch_size'], shuffle=True)\n",
    "    val_dataloader = DataLoader(val_ds, batch_size=1, shuffle=True)\n",
    "\n",
    "    return train_dataloader, val_dataloader, input_lang, output_lang\n"
   ]
  },
  {
   "cell_type": "code",
   "execution_count": 43,
   "id": "f92f5b3c-312a-48d6-915d-c6d17489b38a",
   "metadata": {
    "colab": {
     "base_uri": "https://localhost:8080/"
    },
    "id": "f92f5b3c-312a-48d6-915d-c6d17489b38a",
    "outputId": "c930609b-6a42-4042-f2b6-9126f5a20e4d"
   },
   "outputs": [
    {
     "name": "stdout",
     "output_type": "stream",
     "text": [
      "Reading Lines......\n",
      "Read 135842 sentence pairs\n",
      "Trimmed to 10551 sentence pairs\n",
      "Counting words....\n",
      "Counted Words\n",
      "fra 4343\n",
      "eng 2802\n",
      "Max length of source sentence: 8\n",
      "Max length of target sentence: 8\n"
     ]
    }
   ],
   "source": [
    "train_dataloader, val_dataloader, input_lang, output_lang =  get_ds(config)"
   ]
  },
  {
   "cell_type": "code",
   "execution_count": 45,
   "id": "69ca4e21-238f-4dd6-901d-9c539e2bfda2",
   "metadata": {
    "id": "69ca4e21-238f-4dd6-901d-9c539e2bfda2"
   },
   "outputs": [],
   "source": [
    "for batch in train_dataloader:\n",
    "    x = batch\n",
    "    break"
   ]
  },
  {
   "cell_type": "code",
   "execution_count": 44,
   "id": "GScekEGeU5wC",
   "metadata": {
    "id": "GScekEGeU5wC"
   },
   "outputs": [],
   "source": [
    "def train_epoch(data_loader, model, optimizer, criterion):\n",
    "    total_loss = 0\n",
    "    for batch in data_loader:\n",
    "        encoder_input = batch['encoder_input'].to(device)\n",
    "        decoder_input = batch['decoder_input'].to(device)\n",
    "        encoder_mask = batch['encoder_mask'].to(device)\n",
    "        decoder_mask = batch['decoder_mask'].to(device)\n",
    "\n",
    "        encoder_output = model.encode(encoder_input, encoder_mask)\n",
    "        decoder_output = model.decode(encoder_output, encoder_mask, decoder_input, decoder_mask)\n",
    "        proj_output = model.project(decoder_output)\n",
    "        label = batch['label'].to(device)\n",
    "        loss = criterion(proj_output.view(-1, output_lang.n_words), label.view(-1))\n",
    "        loss.backward()\n",
    "\n",
    "        optimizer.step()\n",
    "        optimizer.zero_grad(set_to_none=True)\n",
    "        total_loss += loss.item()\n",
    "    return total_loss / len(data_loader)"
   ]
  },
  {
   "cell_type": "code",
   "execution_count": 46,
   "id": "TUEQM2DoU6oS",
   "metadata": {
    "id": "TUEQM2DoU6oS"
   },
   "outputs": [],
   "source": [
    "def train_model(config):\n",
    "    device = \"cuda\" if torch.cuda.is_available() else \"cpu\"\n",
    "    print(\"Using Device:\", device)\n",
    "    device = torch.device(device)\n",
    "    # Path(f\"{config['datasource']}_{config['model_folder']}\").mkdir(parents=True, exist_ok=True)\n",
    "    train_dataloader, val_dataloader, input_lang, output_lang = get_ds(config)\n",
    "    model = get_model(config, input_lang.n_words, output_lang.n_words).to(device)\n",
    "    optimizer = torch.optim.Adam(model.parameters(), lr = config['lr'], eps=1e-9)\n",
    "    initial_epoch = 0\n",
    "\n",
    "    loss_fn = nn.CrossEntropyLoss(ignore_index=PAD_token, label_smoothing=0.1).to(device)\n",
    "    for epoch in range(initial_epoch, config['num_epochs']):\n",
    "        torch.cuda.empty_cache()\n",
    "        model.train()\n",
    "        loss = train_epoch(train_dataloader, model, optimizer, loss_fn)\n",
    "        if epoch % 5 == 0:\n",
    "          print(f\"epoch - {epoch} : loss - {loss}\")\n",
    "    return model"
   ]
  },
  {
   "cell_type": "code",
   "execution_count": 47,
   "id": "a1c9b653-c183-4565-9881-9053c9a85e54",
   "metadata": {
    "colab": {
     "base_uri": "https://localhost:8080/"
    },
    "id": "a1c9b653-c183-4565-9881-9053c9a85e54",
    "outputId": "ba1208b5-b194-4872-c7e8-9b17f92ec6f2"
   },
   "outputs": [
    {
     "name": "stdout",
     "output_type": "stream",
     "text": [
      "Using Device: cuda\n",
      "Reading Lines......\n",
      "Read 135842 sentence pairs\n",
      "Trimmed to 10551 sentence pairs\n",
      "Counting words....\n",
      "Counted Words\n",
      "fra 4343\n",
      "eng 2802\n",
      "Max length of source sentence: 8\n",
      "Max length of target sentence: 8\n",
      "epoch - 0 : loss - 6.606975225794235\n",
      "epoch - 5 : loss - 3.570637584532667\n",
      "epoch - 10 : loss - 3.0673806651326636\n",
      "epoch - 15 : loss - 2.73547807315852\n",
      "epoch - 20 : loss - 2.475146324042506\n",
      "epoch - 25 : loss - 2.2681292367461543\n",
      "epoch - 30 : loss - 2.09466687784899\n",
      "epoch - 35 : loss - 1.951891962313812\n",
      "epoch - 40 : loss - 1.8353458994987026\n",
      "epoch - 45 : loss - 1.7392991645224143\n",
      "epoch - 50 : loss - 1.657767894284037\n",
      "epoch - 55 : loss - 1.5955496506402957\n",
      "epoch - 60 : loss - 1.540169155037643\n",
      "epoch - 65 : loss - 1.4934901087076071\n",
      "epoch - 70 : loss - 1.456233496633952\n",
      "epoch - 75 : loss - 1.4253623093534635\n",
      "epoch - 80 : loss - 1.4012750987238531\n",
      "epoch - 85 : loss - 1.379709851821797\n",
      "epoch - 90 : loss - 1.3615811359162298\n",
      "epoch - 95 : loss - 1.3484423424573553\n"
     ]
    }
   ],
   "source": [
    "model = train_model(config)"
   ]
  },
  {
   "cell_type": "code",
   "execution_count": 48,
   "id": "tf7l7GqrdPWs",
   "metadata": {
    "colab": {
     "base_uri": "https://localhost:8080/"
    },
    "id": "tf7l7GqrdPWs",
    "outputId": "0043cd39-2cca-49db-9f4d-454b44727610"
   },
   "outputs": [
    {
     "data": {
      "text/plain": [
       "Decoder(\n",
       "  (layers): ModuleList(\n",
       "    (0-2): 3 x DecoderBlock(\n",
       "      (self_attention_block): MultiHeadAttentionBlock(\n",
       "        (w_q): Linear(in_features=128, out_features=128, bias=False)\n",
       "        (w_k): Linear(in_features=128, out_features=128, bias=False)\n",
       "        (w_v): Linear(in_features=128, out_features=128, bias=False)\n",
       "        (w_o): Linear(in_features=128, out_features=128, bias=False)\n",
       "        (dropout): Dropout(p=0.1, inplace=False)\n",
       "      )\n",
       "      (cross_attention_block): MultiHeadAttentionBlock(\n",
       "        (w_q): Linear(in_features=128, out_features=128, bias=False)\n",
       "        (w_k): Linear(in_features=128, out_features=128, bias=False)\n",
       "        (w_v): Linear(in_features=128, out_features=128, bias=False)\n",
       "        (w_o): Linear(in_features=128, out_features=128, bias=False)\n",
       "        (dropout): Dropout(p=0.1, inplace=False)\n",
       "      )\n",
       "      (feed_forward_block): FeedForwardBlock(\n",
       "        (linear_1): Linear(in_features=128, out_features=256, bias=True)\n",
       "        (dropout): Dropout(p=0.1, inplace=False)\n",
       "        (linear_2): Linear(in_features=256, out_features=128, bias=True)\n",
       "      )\n",
       "      (residual_connections): ModuleList(\n",
       "        (0-2): 3 x ResidualConnection(\n",
       "          (dropout): Dropout(p=0.1, inplace=False)\n",
       "          (norm): LayerNormalization()\n",
       "        )\n",
       "      )\n",
       "    )\n",
       "  )\n",
       "  (norm): LayerNormalization()\n",
       ")"
      ]
     },
     "execution_count": 48,
     "metadata": {},
     "output_type": "execute_result"
    }
   ],
   "source": []
  },
  {
   "cell_type": "code",
   "execution_count": 62,
   "id": "1NwD6LaLeefy",
   "metadata": {
    "id": "1NwD6LaLeefy"
   },
   "outputs": [],
   "source": [
    "def greedy_decode(model, source, input_lang, output_lang, max_len=MAX_LEN, device=device):\n",
    "    with torch.no_grad():\n",
    "        sos_idx = SOS_token\n",
    "        eos_idx = EOS_token\n",
    "        src_text = source\n",
    "        enc_input_tokens = indexesFromSentence(input_lang, src_text)\n",
    "        enc_num_padding_tokens = max_len - len(enc_input_tokens) - 2\n",
    "        encoder_input = torch.cat(\n",
    "                [\n",
    "                    torch.tensor([sos_idx], dtype=torch.int64),\n",
    "                    torch.tensor(enc_input_tokens, dtype=torch.int64),\n",
    "                    torch.tensor([eos_idx], dtype=torch.int64),\n",
    "                    torch.tensor([PAD_token]*enc_num_padding_tokens, dtype=torch.int64),\n",
    "                ],\n",
    "                dim=0,\n",
    "            ).to(device)\n",
    "        src_mask = (encoder_input != PAD_token).unsqueeze(0).unsqueeze(0).int().to(device)\n",
    "        encoder_output = model.encode(encoder_input, src_mask)\n",
    "        decoder_input = torch.empty(1,1).fill_(sos_idx).type_as(encoder_input).to(device)\n",
    "        while True:\n",
    "            if decoder_input.size(1) == max_len:\n",
    "                break\n",
    "            decoder_mask = causal_mask(decoder_input.size(1)).type_as(src_mask).to(device)\n",
    "            out = model.decode(encoder_output, src_mask, decoder_input, decoder_mask)\n",
    "            prob = model.project(out[:,-1])\n",
    "            _, next_word = torch.max(prob, dim=1)\n",
    "            decoder_input = torch.cat(\n",
    "                [decoder_input, torch.empty(1,1).type_as(encoder_input).fill_(next_word.item()).to(device)],dim=1\n",
    "            ).to(device)\n",
    "            if next_word==eos_idx:\n",
    "                break\n",
    "        words=[]\n",
    "        for idx in decoder_input.squeeze(0):\n",
    "          idx = idx.item()\n",
    "          words.append(output_lang.index2word[idx])\n",
    "    return words\n"
   ]
  },
  {
   "cell_type": "code",
   "execution_count": 84,
   "id": "_a4oZeZhesvo",
   "metadata": {
    "colab": {
     "base_uri": "https://localhost:8080/"
    },
    "id": "_a4oZeZhesvo",
    "outputId": "76f5deec-2daa-47fc-8a81-649b4fb67a9d"
   },
   "outputs": [
    {
     "data": {
      "text/plain": [
       "['you', 'are', 'such', 'a', 'liar']"
      ]
     },
     "execution_count": 84,
     "metadata": {},
     "output_type": "execute_result"
    }
   ],
   "source": [
    "greedy_decode(model, pairs[4567][0], input_lang, output_lang)[1:-2]"
   ]
  },
  {
   "cell_type": "code",
   "execution_count": 79,
   "id": "T322Ry6_e0WV",
   "metadata": {
    "colab": {
     "base_uri": "https://localhost:8080/",
     "height": 35
    },
    "id": "T322Ry6_e0WV",
    "outputId": "050e2dba-f37f-457e-c3ad-518ccc09964a"
   },
   "outputs": [
    {
     "data": {
      "application/vnd.google.colaboratory.intrinsic+json": {
       "type": "string"
      },
      "text/plain": [
       "'you are such a liar !'"
      ]
     },
     "execution_count": 79,
     "metadata": {},
     "output_type": "execute_result"
    }
   ],
   "source": [
    "pairs[4567][1]"
   ]
  },
  {
   "cell_type": "code",
   "execution_count": 68,
   "id": "-g4_j0vFf-Iq",
   "metadata": {
    "colab": {
     "base_uri": "https://localhost:8080/",
     "height": 35
    },
    "id": "-g4_j0vFf-Iq",
    "outputId": "23599c8b-0880-46ea-ce30-56c5f688bcdc"
   },
   "outputs": [
    {
     "data": {
      "application/vnd.google.colaboratory.intrinsic+json": {
       "type": "string"
      },
      "text/plain": [
       "'fra'"
      ]
     },
     "execution_count": 68,
     "metadata": {},
     "output_type": "execute_result"
    }
   ],
   "source": [
    "input_lang.name"
   ]
  },
  {
   "cell_type": "code",
   "execution_count": 82,
   "id": "bSZxICBqhh0G",
   "metadata": {
    "colab": {
     "base_uri": "https://localhost:8080/"
    },
    "id": "bSZxICBqhh0G",
    "outputId": "94af72ad-555c-4885-f58b-bc27ff1b5524"
   },
   "outputs": [
    {
     "name": "stderr",
     "output_type": "stream",
     "text": [
      "[nltk_data] Downloading package punkt to /root/nltk_data...\n",
      "[nltk_data]   Unzipping tokenizers/punkt.zip.\n"
     ]
    },
    {
     "data": {
      "text/plain": [
       "True"
      ]
     },
     "execution_count": 82,
     "metadata": {},
     "output_type": "execute_result"
    }
   ],
   "source": [
    "import nltk\n",
    "nltk.download('punkt')"
   ]
  },
  {
   "cell_type": "code",
   "execution_count": 83,
   "id": "Z8r28IL3gZse",
   "metadata": {
    "colab": {
     "base_uri": "https://localhost:8080/"
    },
    "id": "Z8r28IL3gZse",
    "outputId": "9b47870d-8a2b-4a68-dfc6-598c4e739df4"
   },
   "outputs": [
    {
     "name": "stdout",
     "output_type": "stream",
     "text": [
      "BLEU Score: 0.28764198060873264\n"
     ]
    }
   ],
   "source": [
    "from nltk.translate.bleu_score import sentence_bleu, SmoothingFunction\n",
    "from nltk.tokenize import word_tokenize\n",
    "\n",
    "def calculate_bleu(reference, candidate):\n",
    "    reference = [word_tokenize(sentence.lower()) for sentence in reference]\n",
    "    candidate = word_tokenize(candidate.lower())\n",
    "\n",
    "    smoothing_function = SmoothingFunction().method1  # You can choose different smoothing methods\n",
    "\n",
    "    return sentence_bleu(reference, candidate, smoothing_function=smoothing_function)\n",
    "\n",
    "# Example usage:\n",
    "reference_sentence = [\"The cat is sitting on the mat\"]\n",
    "candidate_sentence = \"The cat is on the mat\"\n",
    "\n",
    "bleu_score = calculate_bleu(reference_sentence, candidate_sentence)\n",
    "print(f\"BLEU Score: {bleu_score}\")"
   ]
  },
  {
   "cell_type": "code",
   "execution_count": 94,
   "id": "Zr6ubugahQDa",
   "metadata": {
    "id": "Zr6ubugahQDa"
   },
   "outputs": [],
   "source": [
    "from tqdm import tqdm\n",
    "def bleu_metric(model, n=10000):\n",
    "    bleu=0\n",
    "    for i in tqdm(range(n)):\n",
    "        pair = random.choice(pairs)\n",
    "        output_words = greedy_decode(model, pair[0], input_lang, output_lang)\n",
    "        output_sentence = ' '.join(output_words[1:-2])\n",
    "        reference_sentence = [pair[1]]\n",
    "        candidate_sentence = output_sentence\n",
    "        bleu+= calculate_bleu(reference_sentence, candidate_sentence)\n",
    "    return bleu/n"
   ]
  },
  {
   "cell_type": "code",
   "execution_count": 95,
   "id": "QtGYgVjCh4B9",
   "metadata": {
    "colab": {
     "base_uri": "https://localhost:8080/"
    },
    "id": "QtGYgVjCh4B9",
    "outputId": "56445ed7-c372-499e-d057-6075316d4a80"
   },
   "outputs": [
    {
     "name": "stderr",
     "output_type": "stream",
     "text": [
      "100%|██████████| 10000/10000 [06:05<00:00, 27.32it/s]\n"
     ]
    },
    {
     "data": {
      "text/plain": [
       "0.5238303726987809"
      ]
     },
     "execution_count": 95,
     "metadata": {},
     "output_type": "execute_result"
    }
   ],
   "source": [
    "bleu_metric(model)"
   ]
  },
  {
   "cell_type": "code",
   "execution_count": null,
   "id": "-u6D397Jh-Md",
   "metadata": {
    "id": "-u6D397Jh-Md"
   },
   "outputs": [],
   "source": []
  }
 ],
 "metadata": {
  "accelerator": "GPU",
  "colab": {
   "gpuType": "T4",
   "provenance": []
  },
  "kernelspec": {
   "display_name": "env1",
   "language": "python",
   "name": "env1"
  },
  "language_info": {
   "codemirror_mode": {
    "name": "ipython",
    "version": 3
   },
   "file_extension": ".py",
   "mimetype": "text/x-python",
   "name": "python",
   "nbconvert_exporter": "python",
   "pygments_lexer": "ipython3",
   "version": "3.9.18"
  }
 },
 "nbformat": 4,
 "nbformat_minor": 5
}
